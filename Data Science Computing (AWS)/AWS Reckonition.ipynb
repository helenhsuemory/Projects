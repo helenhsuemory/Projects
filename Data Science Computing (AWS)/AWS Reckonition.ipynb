{
 "cells": [
  {
   "cell_type": "markdown",
   "id": "8305330f-4ec8-43c1-8034-eb89d06d8594",
   "metadata": {},
   "source": [
    "## Overview\n",
    "The code below provides the capability to extract and organize the attributes of detected faces in an image using the Amazon Rekognition API. The API is a cloud-based tool for analyzing and interpreting the content of images and videos, including the detection and analysis of objects, people, scenes, and activities. The resulting data can be used for a variety of applications, including marketing research, customer analysis, and social media analysis."
   ]
  },
  {
   "cell_type": "markdown",
   "id": "de74c44e-110d-46da-85cc-ca61a618ddfa",
   "metadata": {
    "tags": []
   },
   "source": [
    "## Setting up the environment\n",
    "First, imports the necessary libraries for interacting with Amazon's Rekognition API, including boto3, json, numpy, and pandas. \n",
    "- The boto3 library is a Python library for interacting with AWS services, including Rekognition. \n",
    "- The json library is used for encoding and decoding JSON data. \n",
    "- The numpy library is used for numerical computing in Python\n",
    "- The pandas library is used for data manipulation and analysis."
   ]
  },
  {
   "cell_type": "code",
   "execution_count": null,
   "id": "ff8f5d8a-4ef4-4e56-89da-9301f42f3117",
   "metadata": {},
   "outputs": [],
   "source": [
    "import boto3\n",
    "import json\n",
    "import numpy as np\n",
    "import pandas as pd"
   ]
  },
  {
   "cell_type": "markdown",
   "id": "72ef8006-44dd-4128-b769-aa9fb7d2a2cc",
   "metadata": {
    "tags": []
   },
   "source": [
    "## Creating a client object and a resource object\n",
    "Then, create a client object for interacting with the Rekognition API, and a resource object for interacting with an S3 bucket. \n",
    "- The client object is created using the boto3.client function and specifying the 'rekognition' service. \n",
    "- The s3_resource object is created using the boto3.resource function and specifying the 's3' service."
   ]
  },
  {
   "cell_type": "code",
   "execution_count": null,
   "id": "8df3a255-e514-4c93-93b9-690a38b095bc",
   "metadata": {},
   "outputs": [],
   "source": [
    "client = boto3.client('rekognition')\n",
    "s3_resource = boto3.resource('s3')"
   ]
  },
  {
   "cell_type": "markdown",
   "id": "cc90df57-35e1-4f63-9cf5-13a5fe621b23",
   "metadata": {
    "tags": []
   },
   "source": [
    "## Setting variables\n",
    "Create a Bucket object for the bucket with the specified name ('final-project-qtm350'). The objects attribute of the Bucket object is used to retrieve a list of all objects in the bucket, and the key attribute of each object is extracted to create a list of image names. This list of image names is stored in the image_names variable."
   ]
  },
  {
   "cell_type": "code",
   "execution_count": 2,
   "id": "324008fa-27af-4002-94e1-943880f18fbf",
   "metadata": {},
   "outputs": [],
   "source": [
    "my_bucket = s3_resource.Bucket('final-project-qtm350')\n",
    "summaries = my_bucket.objects.all()\n",
    "image_names = [image.key for image  in summaries]"
   ]
  },
  {
   "cell_type": "markdown",
   "id": "2ad3ad71-a448-451a-9249-a355a7cdf922",
   "metadata": {
    "tags": []
   },
   "source": [
    "## Defining the function"
   ]
  },
  {
   "cell_type": "code",
   "execution_count": 5,
   "id": "761a25cc-1cd9-48d4-a7ef-6215039fd96e",
   "metadata": {},
   "outputs": [],
   "source": [
    "import pandas as pd\n",
    "\n",
    "def detect_faces(photo):\n",
    "    # Call the Rekognition API to detect faces\n",
    "    response = client.detect_faces(Image={'S3Object':{'Bucket':'final-project-qtm350','Name':photo}},Attributes=['ALL'])\n",
    "\n",
    "    # Create the DataFrame\n",
    "    df = pd.DataFrame(columns=['Age Range', 'Gender', 'Smile', 'Eyeglasses', 'Emotion'])\n",
    "    for faceDetail in response['FaceDetails']:\n",
    "        # Extract the relevant face details\n",
    "        age_range = str(faceDetail['AgeRange']['Low']) + ' - ' + str(faceDetail['AgeRange']['High'])\n",
    "        gender = str(faceDetail['Gender'])\n",
    "        smile = str(faceDetail['Smile'])\n",
    "        eyeglasses = str(faceDetail['Eyeglasses'])\n",
    "        emotion = str(faceDetail['Emotions'][0])\n",
    "        # Append a row to the DataFrame\n",
    "        df = df.append({'Age Range': age_range, 'Gender': gender, 'Smile': smile, 'Eyeglasses': eyeglasses, 'Emotion': emotion}, ignore_index=True)\n",
    "\n",
    "    return df"
   ]
  },
  {
   "cell_type": "code",
   "execution_count": 6,
   "id": "d493633b-a1aa-4c80-b28f-beb81257a03b",
   "metadata": {},
   "outputs": [
    {
     "data": {
      "text/html": [
       "<div>\n",
       "<style scoped>\n",
       "    .dataframe tbody tr th:only-of-type {\n",
       "        vertical-align: middle;\n",
       "    }\n",
       "\n",
       "    .dataframe tbody tr th {\n",
       "        vertical-align: top;\n",
       "    }\n",
       "\n",
       "    .dataframe thead th {\n",
       "        text-align: right;\n",
       "    }\n",
       "</style>\n",
       "<table border=\"1\" class=\"dataframe\">\n",
       "  <thead>\n",
       "    <tr style=\"text-align: right;\">\n",
       "      <th></th>\n",
       "      <th>Age Range</th>\n",
       "      <th>Gender</th>\n",
       "      <th>Smile</th>\n",
       "      <th>Eyeglasses</th>\n",
       "      <th>Emotion</th>\n",
       "    </tr>\n",
       "  </thead>\n",
       "  <tbody>\n",
       "    <tr>\n",
       "      <th>0</th>\n",
       "      <td>14 - 22</td>\n",
       "      <td>{'Value': 'Female', 'Confidence': 99.989295959...</td>\n",
       "      <td>{'Value': False, 'Confidence': 94.39398956298828}</td>\n",
       "      <td>{'Value': False, 'Confidence': 94.1173324584961}</td>\n",
       "      <td>{'Type': 'CALM', 'Confidence': 99.54963684082031}</td>\n",
       "    </tr>\n",
       "  </tbody>\n",
       "</table>\n",
       "</div>"
      ],
      "text/plain": [
       "  Age Range                                             Gender  \\\n",
       "0   14 - 22  {'Value': 'Female', 'Confidence': 99.989295959...   \n",
       "\n",
       "                                               Smile  \\\n",
       "0  {'Value': False, 'Confidence': 94.39398956298828}   \n",
       "\n",
       "                                         Eyeglasses  \\\n",
       "0  {'Value': False, 'Confidence': 94.1173324584961}   \n",
       "\n",
       "                                             Emotion  \n",
       "0  {'Type': 'CALM', 'Confidence': 99.54963684082031}  "
      ]
     },
     "execution_count": 6,
     "metadata": {},
     "output_type": "execute_result"
    }
   ],
   "source": [
    "detect_faces('hsu1.jpeg')"
   ]
  },
  {
   "cell_type": "markdown",
   "id": "73268a3f-d806-442c-baaf-6111c4c62f8f",
   "metadata": {},
   "source": [
    "## Potential application\n",
    "The detect_faces function can be used to extract and organize the attributes of detected faces into a DataFrame, which can then be used for further analysis. For example, the DataFrame could be used to visualize the distribution of ages, genders, and emotions among the detected faces. It could also be used to analyze the prevalence of certain attributes, such as glasses or smiles, among the detected faces.\n",
    "\n",
    "This type of analysis could be useful in a variety of applications, such as marketing research, customer analysis, or social media analysis. For example, the DataFrame could be used to understand the demographics and emotions of people in a particular image or video, or to compare the attributes of faces in different images or videos. It could also be used to track changes in these attributes over time, or to identify trends or patterns in the data."
   ]
  }
 ],
 "metadata": {
  "instance_type": "ml.t3.medium",
  "kernelspec": {
   "display_name": "Python 3 (Data Science)",
   "language": "python",
   "name": "python3__SAGEMAKER_INTERNAL__arn:aws:sagemaker:us-east-1:081325390199:image/datascience-1.0"
  },
  "language_info": {
   "codemirror_mode": {
    "name": "ipython",
    "version": 3
   },
   "file_extension": ".py",
   "mimetype": "text/x-python",
   "name": "python",
   "nbconvert_exporter": "python",
   "pygments_lexer": "ipython3",
   "version": "3.7.10"
  }
 },
 "nbformat": 4,
 "nbformat_minor": 5
}
