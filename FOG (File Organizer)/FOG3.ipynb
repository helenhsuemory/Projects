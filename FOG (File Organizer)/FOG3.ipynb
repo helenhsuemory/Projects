{
 "cells": [
  {
   "cell_type": "markdown",
   "id": "0a1fc77a-3194-4455-a152-7d1af9df3bed",
   "metadata": {},
   "source": [
    "# FOG3 (File Organizer V.3)\n",
    "\n",
    "FOG3 is an excellent tool for organizing your files and eliminating duplicate copies. If you have a large collection of files on your computer, you know how hard it can be to keep track of everything and ensure that you don't have multiple copies of the same file. FOG3 simplifies this task by detecting and deleting duplicated files in the directory you specify.\n",
    "\n",
    "With FOG3, you can easily scan your entire file system or just a specific folder for duplicates. Once the scan is complete, FOG3 will display a list of all the duplicate files it has found, along with their location and size. You can then choose which files you want to keep and which ones you want to delete, or simply delete all the duplicates at once.\n",
    "\n",
    "FOG3 is a powerful and efficient tool that can save you a lot of time and effort when it comes to organizing your files. Whether you're dealing with hundreds or thousands of files, FOG3 can help you quickly and easily find and remove duplicates, leaving you with a clean and organized file system. Give FOG3 a try today and see the difference it can make in your file management routine.\n",
    "\n",
    "To use FOG3, run the code below and enter the directory path in which you want to clean the duplicated files."
   ]
  },
  {
   "cell_type": "code",
   "execution_count": null,
   "id": "958a81fd",
   "metadata": {
    "scrolled": true
   },
   "outputs": [],
   "source": [
    "import os\n",
    "import hashlib\n",
    "\n",
    "def delete_duplicates(directory):\n",
    "  \"\"\"Deletes duplicated files in the given directory.\"\"\"\n",
    "  # Create a dictionary to store the files' checksums and filenames\n",
    "  checksums = {}\n",
    "  \n",
    "  # Iterate through the files in the directory\n",
    "  for filename in os.listdir(directory):\n",
    "    filepath = os.path.join(directory, filename)\n",
    "    if os.path.isfile(filepath):\n",
    "      # Calculate the file's checksum\n",
    "      checksum = hashlib.md5(open(filepath, 'rb').read()).hexdigest()\n",
    "      \n",
    "      # Check if the checksum already exists in the dictionary\n",
    "      if checksum in checksums:\n",
    "        # The file is a duplicate, so delete it\n",
    "        os.remove(filepath)\n",
    "      else:\n",
    "        # Add the checksum and filename to the dictionary\n",
    "        checksums[checksum] = filepath\n",
    "\n",
    "def main():\n",
    "  directory = input('Enter the directory path: ')  \n",
    "  delete_duplicates(directory)\n",
    "\n",
    "\n",
    "if __name__ == '__main__':\n",
    "  main()"
   ]
  }
 ],
 "metadata": {
  "kernelspec": {
   "display_name": "Python 3 (ipykernel)",
   "language": "python",
   "name": "python3"
  },
  "language_info": {
   "codemirror_mode": {
    "name": "ipython",
    "version": 3
   },
   "file_extension": ".py",
   "mimetype": "text/x-python",
   "name": "python",
   "nbconvert_exporter": "python",
   "pygments_lexer": "ipython3",
   "version": "3.9.5"
  }
 },
 "nbformat": 4,
 "nbformat_minor": 5
}
