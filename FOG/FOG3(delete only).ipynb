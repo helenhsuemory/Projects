{
 "cells": [
  {
   "cell_type": "code",
   "execution_count": 1,
   "id": "958a81fd",
   "metadata": {
    "scrolled": true
   },
   "outputs": [
    {
     "name": "stdin",
     "output_type": "stream",
     "text": [
      "Enter the directory path:  /Users/helenhsu/Downloads/PDF\n"
     ]
    }
   ],
   "source": [
    "import os\n",
    "import hashlib\n",
    "\n",
    "def delete_duplicates(directory):\n",
    "  \"\"\"Deletes duplicated files in the given directory.\"\"\"\n",
    "  # Create a dictionary to store the files' checksums and filenames\n",
    "  checksums = {}\n",
    "  \n",
    "  # Iterate through the files in the directory\n",
    "  for filename in os.listdir(directory):\n",
    "    filepath = os.path.join(directory, filename)\n",
    "    if os.path.isfile(filepath):\n",
    "      # Calculate the file's checksum\n",
    "      checksum = hashlib.md5(open(filepath, 'rb').read()).hexdigest()\n",
    "      \n",
    "      # Check if the checksum already exists in the dictionary\n",
    "      if checksum in checksums:\n",
    "        # The file is a duplicate, so delete it\n",
    "        os.remove(filepath)\n",
    "      else:\n",
    "        # Add the checksum and filename to the dictionary\n",
    "        checksums[checksum] = filepath\n",
    "\n",
    "def main():\n",
    "  directory = input('Enter the directory path: ')  \n",
    "  delete_duplicates(directory)\n",
    "\n",
    "\n",
    "if __name__ == '__main__':\n",
    "  main()"
   ]
  },
  {
   "cell_type": "code",
   "execution_count": null,
   "id": "50a0ba2d",
   "metadata": {},
   "outputs": [],
   "source": []
  }
 ],
 "metadata": {
  "kernelspec": {
   "display_name": "Python 3 (ipykernel)",
   "language": "python",
   "name": "python3"
  },
  "language_info": {
   "codemirror_mode": {
    "name": "ipython",
    "version": 3
   },
   "file_extension": ".py",
   "mimetype": "text/x-python",
   "name": "python",
   "nbconvert_exporter": "python",
   "pygments_lexer": "ipython3",
   "version": "3.9.5"
  }
 },
 "nbformat": 4,
 "nbformat_minor": 5
}
